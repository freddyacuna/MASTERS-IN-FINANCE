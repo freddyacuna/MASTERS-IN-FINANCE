{
  "nbformat": 4,
  "nbformat_minor": 0,
  "metadata": {
    "colab": {
      "name": "BI_2021_Tarea_01.ipynb",
      "provenance": [],
      "collapsed_sections": [],
      "include_colab_link": true
    },
    "kernelspec": {
      "name": "python3",
      "display_name": "Python 3"
    }
  },
  "cells": [
    {
      "cell_type": "markdown",
      "metadata": {
        "id": "view-in-github",
        "colab_type": "text"
      },
      "source": [
        "<a href=\"https://colab.research.google.com/github/freddyacuna/Master-in-Finance/blob/main/BI_2021_HW_01.ipynb\" target=\"_parent\"><img src=\"https://colab.research.google.com/assets/colab-badge.svg\" alt=\"Open In Colab\"/></a>"
      ]
    },
    {
      "cell_type": "markdown",
      "metadata": {
        "id": "Hcckbt6119D3"
      },
      "source": [
        "# <img src=\"https://escudouchile.files.wordpress.com/2012/07/logo-economia-u-de-chile.jpg\" height=\"250\" /> \n",
        "\n",
        "# Business Intelligence para las Finanzas\n",
        "\n",
        "## _&gt; Tarea 1_\n",
        "\n",
        "David Díaz S. <br>\n",
        "<span style = 'font-size: 50%;'>Universidad de Chile<br>\n",
        "Magister en Finanzas - Full Time</span>\n",
        "\n",
        "*Primavera 2021*"
      ]
    },
    {
      "cell_type": "markdown",
      "metadata": {
        "id": "sWdtoYExVQqC"
      },
      "source": [
        "# Complejidad Computacional\n",
        "\n",
        "1. Genere una función iterativa que entregue la secuencia de **Fibonacci** (en ayudantía 4 se utilizo la versión recursiva de la secuencia **Fibonacci**).\n",
        "    \n",
        "    \\begin{equation}\n",
        "    x_n = x_{n-1} + x_{n-2}\n",
        "    \\end{equation}\n",
        "\n",
        "    La secuencia es una sucesión infinita de números naturales 0, 1, 1, 2, 3, 5, 8, 13, 21, 34, 55, 89, 144, $\\infty$. Por ejemplo, si su función la define como `fibonacci`, debería esperarse que `fibonacci(1) = 0`, `fibonacci(2) = 1`, `fibonacci(3) = 1` y así sucesivamente. **Hint**: Use como guía la **ayudantía I**.\n"
      ]
    },
    {
      "cell_type": "code",
      "metadata": {
        "id": "HZHb-yukVVCa"
      },
      "source": [
        ""
      ],
      "execution_count": null,
      "outputs": []
    },
    {
      "cell_type": "markdown",
      "metadata": {
        "id": "X596sDYqVUbj"
      },
      "source": [
        "2. Utilizando la función generada en (1), demuestre gráficamente que la complejidad computacional en términos de tiempo para la secuencia de **Fibonacci iterativa** es $\\mathcal{O}(n)$. Basta con utilizar un rango de iteraciones en su *loop*, por ejemplo, `range(0, 26, 10)`. ¿Cómo se compara este resultado con la complejidad computacional de Fibonacci recursivo visto en ayudantía?."
      ]
    },
    {
      "cell_type": "code",
      "metadata": {
        "id": "6NsuTAjrVUwm"
      },
      "source": [
        ""
      ],
      "execution_count": null,
      "outputs": []
    },
    {
      "cell_type": "markdown",
      "metadata": {
        "id": "VTS9-WCCVb8T"
      },
      "source": [
        "# Aplicación: Regresión Lineal    \n",
        "\n",
        "El archivo `sp500_rv_5min.xlsx`, contiene la volatilidad realizada del índice *Standard and Poor 500* a partir de precios generados cada 5 minutos desde Enero de 1997 hasta Agosto del 2013 con frecuencia diaria. Cargue los datos a su espacio de trabajo y responda:\n",
        "\n",
        "1. Genere la media movil a 5 días (semana) y 22 días (mes) de la volatilidad realizada. La media movil se define como:\n",
        "\n",
        "    \\begin{equation}\n",
        "    RV_{t - j | t - h} = \\frac{1}{h + 1 - j} \\sum^{h}_{i = j} RV_{t - i} \\qquad j = 1 ; h = 5, 22\n",
        "    \\end{equation}\n",
        "    \n",
        "    Elimine los `nan` que se generen. **Hint:** ver la función `pd.rolling()` de `Pandas`.\n"
      ]
    },
    {
      "cell_type": "code",
      "metadata": {
        "id": "pqDVIVWRVr8O"
      },
      "source": [
        ""
      ],
      "execution_count": null,
      "outputs": []
    },
    {
      "cell_type": "markdown",
      "metadata": {
        "id": "2AZH-vA-VrTW"
      },
      "source": [
        "2. Estime la siguiente regresión lineal con la muestra completa:\n",
        "\n",
        "    \\begin{equation}\n",
        "        RV_t = \\theta_{0} + \\theta_{1} RV_{t-1} + \\theta_{2} RV_{t-1|t-5} + \\theta_{3} RV_{t-1|t-22} + u_t \n",
        "    \\end{equation}    \n",
        "\n",
        "    Donde $RV_t$ es la volatilidad realizada en $t$, $RV_{t-1}$ el primer rezago de $RV$ y $RV_{t - j | t - h}$ los predictores generados en la pregunta anterior. Presente en una tabla los coeficientes y sus respectivas significancias. Considere la librería `statsmodels` vista en clases.  "
      ]
    },
    {
      "cell_type": "code",
      "metadata": {
        "id": "ljpZf_IKVsZf"
      },
      "source": [
        ""
      ],
      "execution_count": null,
      "outputs": []
    },
    {
      "cell_type": "markdown",
      "metadata": {
        "id": "DdpiDFyVVztE"
      },
      "source": [
        "3. Genere las muestras *Training* y *Testing*, utilizando `2010-06-01` como fecha de corte. Luego entrene un modelo\n",
        "mediante una **Regresión Lineal** en su muestra de *Training*."
      ]
    },
    {
      "cell_type": "code",
      "metadata": {
        "id": "jcXtDWr5V11a"
      },
      "source": [
        ""
      ],
      "execution_count": null,
      "outputs": []
    },
    {
      "cell_type": "markdown",
      "metadata": {
        "id": "6hiVSzyWV2CP"
      },
      "source": [
        "4. Muestre como se comporta el modelo entrenado con la muestra de *Training* y *Testing*, utlizando las métricas de *MSE* (*Mean Squared Error*) y *QLIKE*. La métrica *QLIKE* se define como:\n",
        "\n",
        "    \\begin{equation}\n",
        "    QLIKE(RV_t, F_t) \\equiv \\frac{RV_t}{F_t} - log\\bigg(\\frac{RV_t}{F_t} \\bigg) - 1\n",
        "    \\end{equation}\n",
        "    \n",
        "    Donde $F_t$ corresponde a la predicción y $RV_t$ al valor observado de la volatilidad realizada."
      ]
    },
    {
      "cell_type": "code",
      "metadata": {
        "id": "fPkvHZvMV3Vh"
      },
      "source": [
        ""
      ],
      "execution_count": null,
      "outputs": []
    },
    {
      "cell_type": "markdown",
      "metadata": {
        "id": "1NW8-6aaV3cC"
      },
      "source": [
        "5. Repita la pregunta (3) y (4) utilizando **Gradiente Descendiente Estocástico**. Comente sus resultados."
      ]
    },
    {
      "cell_type": "code",
      "metadata": {
        "id": "fX7BIOpuV64I"
      },
      "source": [
        ""
      ],
      "execution_count": null,
      "outputs": []
    },
    {
      "cell_type": "markdown",
      "metadata": {
        "id": "xFiWCMbJV7AQ"
      },
      "source": [
        "# Aplicación: Regresión Logística\n",
        "\n",
        "El archivo `sp500_weekly.xlsx`, contiene el precio al cierre y volumen transado del índice *Standard and Poor 500* desde Enero de 1989  hasta Diciembre del 2010 con frecuencia semanal. Cargue los datos a su espacio de trabajo y responda:\n",
        "\n",
        "1. Genere las siguientes variables:\n",
        "\n",
        "  a. El retorno aritmético semanal en porcentajes. Recuerde que se calcula como:\n",
        "\n",
        "  \\begin{equation}\n",
        "  r_t = \\frac{P_t - P_{t-1}}{P_{t-1}} \\times 100\n",
        "  \\end{equation}\n",
        "  \n",
        "  Nombre la variable como `today`.\n",
        "    \n",
        "  b. El primer, segundo, tercer, cuarto y quinto rezago (*lag*) de los retornos obtenidos en (1.a). Nombre estas variables como $lag1$, $lag2$, $lag3$, $lag4$ y $lag5$. \n",
        "    \n",
        "  c. Una variable dicotómica que tenga el valor 1 si el retorno es positivo y cero en caso contrario. Nombre la variable como `direction`. "
      ]
    },
    {
      "cell_type": "code",
      "metadata": {
        "id": "MqL7N4sJWBsP"
      },
      "source": [
        ""
      ],
      "execution_count": null,
      "outputs": []
    },
    {
      "cell_type": "markdown",
      "metadata": {
        "id": "v349lSIiWB1j"
      },
      "source": [
        "2. Haciendo uso de las variables construidas en (1), consolidelas en un solo DataFrame, cuyo índice (*index*) sea la fecha correspondiente. Debe partir desde \"1990-01-07\".\n"
      ]
    },
    {
      "cell_type": "code",
      "metadata": {
        "id": "QyWv7dtsWDuS"
      },
      "source": [
        ""
      ],
      "execution_count": null,
      "outputs": []
    },
    {
      "cell_type": "markdown",
      "metadata": {
        "id": "QY3IjSd3WD8Q"
      },
      "source": [
        "3. Estime la siguiente regresión logística con la muestra completa:\n",
        "\n",
        "    \\begin{equation}\n",
        "    direction_{i} = \\theta_{0} + \\theta_{1}lag1_{i} + \\theta_{2}lag2_{i} + \\theta_{3}lag3_{i} + \\theta_{4}lag4_{i} + \\theta_{5}lag5_{i} + \\varepsilon_{i} \n",
        "    \\end{equation}\n",
        "\n",
        "    Donde $direction_{i}$ es la variable creada en (1.a) y $lag1$, $lag2$, $lag3$, $lag4$ y $lag5$ las variables creadas en (1.b). \n",
        "    Presente en una tabla los coeficientes y sus respectivas significancias. Considere la librería `statsmodels`, a continuación se presenta un breve ejemplo:\n",
        "\n",
        "    ```python\n",
        "    # importamos el librería/módulo\n",
        "    import statsmodels.formula.api as sm\n",
        "    \n",
        "    # se \"construye\" el modelo, weekly_df es la base consolidad en (2)\n",
        "    model = sm.logit(\"direction ~ lag1 + lag2 + lag3 + lag4 + lag5\", data=weekly_df)\n",
        "    \n",
        "    # se estima el modelo\n",
        "    result = model.fit()\n",
        "    ```"
      ]
    },
    {
      "cell_type": "code",
      "metadata": {
        "id": "1Ryxo--IWF_Y"
      },
      "source": [
        ""
      ],
      "execution_count": null,
      "outputs": []
    },
    {
      "cell_type": "markdown",
      "metadata": {
        "id": "oYtV7HEfWGMD"
      },
      "source": [
        "4. Genere las muestras *Training* y *Testing*, utilizando \"2007-01-07\" como fecha de corte. Luego entrene un modelo mediante una **Regresión Logística** en su muestra de *Training*, utilizando como *features* la o las variables estadísticamente signifcativas obtenidas en (3)."
      ]
    },
    {
      "cell_type": "code",
      "metadata": {
        "id": "8tiY7hb4WGlU"
      },
      "source": [
        ""
      ],
      "execution_count": null,
      "outputs": []
    },
    {
      "cell_type": "markdown",
      "metadata": {
        "id": "mpFu3ExnWJxo"
      },
      "source": [
        "5. Muestre como se comporta el modelo entrenado con la muestra de *Testing*, utlizando las métricas de *precision* y *recall*. Comente sus resultados."
      ]
    },
    {
      "cell_type": "code",
      "metadata": {
        "id": "cKmVy0J8WK_R"
      },
      "source": [
        ""
      ],
      "execution_count": null,
      "outputs": []
    }
  ]
}